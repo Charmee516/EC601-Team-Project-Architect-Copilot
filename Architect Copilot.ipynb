{
 "cells": [
  {
   "cell_type": "code",
   "execution_count": null,
   "id": "6ce7c5a9-3297-408b-8668-2f0b3a82283d",
   "metadata": {},
   "outputs": [
    {
     "name": "stdout",
     "output_type": "stream",
     "text": [
      "Error running save type.py: Command '['C:\\\\Users\\\\dvaz4\\\\AppData\\\\Local\\\\Programs\\\\Python\\\\Python310\\\\python.exe', 'save type.py']' returned non-zero exit status 1.\n"
     ]
    }
   ],
   "source": [
    "import tkinter as tk\n",
    "import subprocess\n",
    "import sys\n",
    "\n",
    "# Function to run `.py` files\n",
    "def run_python_script(filename):\n",
    "    try:\n",
    "        subprocess.run([sys.executable, filename], check=True)\n",
    "    except subprocess.CalledProcessError as e:\n",
    "        print(f\"Error running {filename}: {e}\")\n",
    "\n",
    "# Functions tied to each button\n",
    "def run_room_decorator():\n",
    "    run_python_script(\"room_decorator.py\")\n",
    "\n",
    "def run_basic_room_layout():\n",
    "    run_python_script(\"Basic Room Layout.py\")\n",
    "\n",
    "def run_save_type():\n",
    "    run_python_script(\"save type.py\")\n",
    "\n",
    "# Tkinter GUI Setup\n",
    "root = tk.Tk()\n",
    "root.title(\"Script Launcher\")\n",
    "\n",
    "# Set the size of the canvas\n",
    "canvas_width = 400\n",
    "canvas_height = 300\n",
    "root.geometry(f\"{canvas_width}x{canvas_height}\")\n",
    "\n",
    "# Add a frame to center the buttons\n",
    "frame = tk.Frame(root)\n",
    "frame.pack(expand=True)\n",
    "\n",
    "# Create buttons for each file\n",
    "btn1 = tk.Button(frame, text=\"Run room_decorator\", width=20, command=run_room_decorator)\n",
    "btn1.pack(pady=15)\n",
    "\n",
    "btn2 = tk.Button(frame, text=\"Run Basic Room Layout\", width=20, command=run_basic_room_layout)\n",
    "btn2.pack(pady=15)\n",
    "\n",
    "btn3 = tk.Button(frame, text=\"Run save type\", width=20, command=run_save_type)\n",
    "btn3.pack(pady=15)\n",
    "\n",
    "# Run the Tkinter event loop\n",
    "root.mainloop()\n"
   ]
  },
  {
   "cell_type": "code",
   "execution_count": null,
   "id": "a03f4503-a7ed-4663-a5e7-1d3956032b64",
   "metadata": {},
   "outputs": [],
   "source": []
  }
 ],
 "metadata": {
  "kernelspec": {
   "display_name": "Python 3 (ipykernel)",
   "language": "python",
   "name": "python3"
  },
  "language_info": {
   "codemirror_mode": {
    "name": "ipython",
    "version": 3
   },
   "file_extension": ".py",
   "mimetype": "text/x-python",
   "name": "python",
   "nbconvert_exporter": "python",
   "pygments_lexer": "ipython3",
   "version": "3.10.2"
  }
 },
 "nbformat": 4,
 "nbformat_minor": 5
}
